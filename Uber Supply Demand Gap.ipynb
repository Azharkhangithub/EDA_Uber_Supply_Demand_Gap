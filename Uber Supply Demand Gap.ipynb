{
 "cells": [
  {
   "cell_type": "markdown",
   "id": "0dec96a0",
   "metadata": {},
   "source": [
    "<h1><center>Uber Supply Demand Gap Assignment</center></h1>"
   ]
  },
  {
   "cell_type": "markdown",
   "id": "cd3a082a",
   "metadata": {},
   "source": [
    "### Importing the libraries."
   ]
  },
  {
   "cell_type": "code",
   "execution_count": 1,
   "id": "8ba76da4",
   "metadata": {},
   "outputs": [],
   "source": [
    "import pandas as pd\n",
    "import numpy as np\n",
    "import matplotlib.pyplot as plt\n",
    "%matplotlib inline\n",
    "import warnings\n",
    "warnings.filterwarnings(\"ignore\")\n",
    "import datetime"
   ]
  },
  {
   "cell_type": "markdown",
   "id": "aa87d917",
   "metadata": {},
   "source": [
    "### Initial DataSet Viewing & Analysis"
   ]
  },
  {
   "cell_type": "code",
   "execution_count": 2,
   "id": "be0f81c5",
   "metadata": {},
   "outputs": [],
   "source": [
    "#read the data set of \"Uber request data\" in inp0.\n",
    "inp0= pd.read_csv(\"Uber Request Data.csv\")"
   ]
  },
  {
   "cell_type": "code",
   "execution_count": 3,
   "id": "4ad04aea",
   "metadata": {},
   "outputs": [
    {
     "data": {
      "text/html": [
       "<div>\n",
       "<style scoped>\n",
       "    .dataframe tbody tr th:only-of-type {\n",
       "        vertical-align: middle;\n",
       "    }\n",
       "\n",
       "    .dataframe tbody tr th {\n",
       "        vertical-align: top;\n",
       "    }\n",
       "\n",
       "    .dataframe thead th {\n",
       "        text-align: right;\n",
       "    }\n",
       "</style>\n",
       "<table border=\"1\" class=\"dataframe\">\n",
       "  <thead>\n",
       "    <tr style=\"text-align: right;\">\n",
       "      <th></th>\n",
       "      <th>Request id</th>\n",
       "      <th>Pickup point</th>\n",
       "      <th>Driver id</th>\n",
       "      <th>Status</th>\n",
       "      <th>Request timestamp</th>\n",
       "      <th>Drop timestamp</th>\n",
       "    </tr>\n",
       "  </thead>\n",
       "  <tbody>\n",
       "    <tr>\n",
       "      <th>0</th>\n",
       "      <td>619</td>\n",
       "      <td>Airport</td>\n",
       "      <td>1.0</td>\n",
       "      <td>Trip Completed</td>\n",
       "      <td>11/7/2016 11:51</td>\n",
       "      <td>11/7/2016 13:00</td>\n",
       "    </tr>\n",
       "    <tr>\n",
       "      <th>1</th>\n",
       "      <td>867</td>\n",
       "      <td>Airport</td>\n",
       "      <td>1.0</td>\n",
       "      <td>Trip Completed</td>\n",
       "      <td>11/7/2016 17:57</td>\n",
       "      <td>11/7/2016 18:47</td>\n",
       "    </tr>\n",
       "    <tr>\n",
       "      <th>2</th>\n",
       "      <td>1807</td>\n",
       "      <td>City</td>\n",
       "      <td>1.0</td>\n",
       "      <td>Trip Completed</td>\n",
       "      <td>12/7/2016 9:17</td>\n",
       "      <td>12/7/2016 9:58</td>\n",
       "    </tr>\n",
       "    <tr>\n",
       "      <th>3</th>\n",
       "      <td>2532</td>\n",
       "      <td>Airport</td>\n",
       "      <td>1.0</td>\n",
       "      <td>Trip Completed</td>\n",
       "      <td>12/7/2016 21:08</td>\n",
       "      <td>12/7/2016 22:03</td>\n",
       "    </tr>\n",
       "    <tr>\n",
       "      <th>4</th>\n",
       "      <td>3112</td>\n",
       "      <td>City</td>\n",
       "      <td>1.0</td>\n",
       "      <td>Trip Completed</td>\n",
       "      <td>13-07-2016 08:33:16</td>\n",
       "      <td>13-07-2016 09:25:47</td>\n",
       "    </tr>\n",
       "  </tbody>\n",
       "</table>\n",
       "</div>"
      ],
      "text/plain": [
       "   Request id Pickup point  Driver id          Status    Request timestamp  \\\n",
       "0         619      Airport        1.0  Trip Completed      11/7/2016 11:51   \n",
       "1         867      Airport        1.0  Trip Completed      11/7/2016 17:57   \n",
       "2        1807         City        1.0  Trip Completed       12/7/2016 9:17   \n",
       "3        2532      Airport        1.0  Trip Completed      12/7/2016 21:08   \n",
       "4        3112         City        1.0  Trip Completed  13-07-2016 08:33:16   \n",
       "\n",
       "        Drop timestamp  \n",
       "0      11/7/2016 13:00  \n",
       "1      11/7/2016 18:47  \n",
       "2       12/7/2016 9:58  \n",
       "3      12/7/2016 22:03  \n",
       "4  13-07-2016 09:25:47  "
      ]
     },
     "execution_count": 3,
     "metadata": {},
     "output_type": "execute_result"
    }
   ],
   "source": [
    "#Print the head of the data frame.\n",
    "inp0.head()"
   ]
  },
  {
   "cell_type": "code",
   "execution_count": 4,
   "id": "1c2ff6d1",
   "metadata": {},
   "outputs": [
    {
     "name": "stdout",
     "output_type": "stream",
     "text": [
      "<class 'pandas.core.frame.DataFrame'>\n",
      "RangeIndex: 6745 entries, 0 to 6744\n",
      "Data columns (total 6 columns):\n",
      " #   Column             Non-Null Count  Dtype  \n",
      "---  ------             --------------  -----  \n",
      " 0   Request id         6745 non-null   int64  \n",
      " 1   Pickup point       6745 non-null   object \n",
      " 2   Driver id          4095 non-null   float64\n",
      " 3   Status             6745 non-null   object \n",
      " 4   Request timestamp  6745 non-null   object \n",
      " 5   Drop timestamp     2831 non-null   object \n",
      "dtypes: float64(1), int64(1), object(4)\n",
      "memory usage: 316.3+ KB\n"
     ]
    }
   ],
   "source": [
    "inp0.info()"
   ]
  },
  {
   "cell_type": "markdown",
   "id": "8148a178",
   "metadata": {},
   "source": [
    "## Data Cleaning"
   ]
  },
  {
   "cell_type": "markdown",
   "id": "71f0394f",
   "metadata": {},
   "source": [
    "### Checking null values in columns"
   ]
  },
  {
   "cell_type": "code",
   "execution_count": 5,
   "id": "a59a9b6d",
   "metadata": {},
   "outputs": [
    {
     "data": {
      "text/plain": [
       "Drop timestamp       3914\n",
       "Driver id            2650\n",
       "Request id              0\n",
       "Pickup point            0\n",
       "Status                  0\n",
       "Request timestamp       0\n",
       "dtype: int64"
      ]
     },
     "execution_count": 5,
     "metadata": {},
     "output_type": "execute_result"
    }
   ],
   "source": [
    "inp0.isna().sum().sort_values(ascending = False)"
   ]
  },
  {
   "cell_type": "markdown",
   "id": "3b645a82",
   "metadata": {},
   "source": [
    "### Initial Data shape"
   ]
  },
  {
   "cell_type": "code",
   "execution_count": 6,
   "id": "143e375c",
   "metadata": {},
   "outputs": [
    {
     "data": {
      "text/plain": [
       "(6745, 6)"
      ]
     },
     "execution_count": 6,
     "metadata": {},
     "output_type": "execute_result"
    }
   ],
   "source": [
    "inp0.shape"
   ]
  },
  {
   "cell_type": "markdown",
   "id": "bcc141f8",
   "metadata": {},
   "source": [
    "### Dropping unwanted columns\n",
    "\n",
    "#### Here we are dropping Driver id column because of reasons:\n",
    "1. This column contains high volumn of null/isna data, since this column conatins ID value which is unique/Personal data which cannot be filled using statistic approaches such as mean,median or mode.\n",
    "2. Also cannot partially remove only null rows because, if we do so we will loose a lot of data that may result in more insights.Hence we shall drop the column itself"
   ]
  },
  {
   "cell_type": "code",
   "execution_count": 7,
   "id": "fabf0e1a",
   "metadata": {},
   "outputs": [],
   "source": [
    "inp0 = inp0.drop(['Driver id'], axis = 1)"
   ]
  },
  {
   "cell_type": "markdown",
   "id": "bafd26aa",
   "metadata": {},
   "source": [
    "### Shape after removing Driver id column"
   ]
  },
  {
   "cell_type": "code",
   "execution_count": 8,
   "id": "868182aa",
   "metadata": {},
   "outputs": [
    {
     "data": {
      "text/plain": [
       "(6745, 5)"
      ]
     },
     "execution_count": 8,
     "metadata": {},
     "output_type": "execute_result"
    }
   ],
   "source": [
    "inp0.shape"
   ]
  },
  {
   "cell_type": "markdown",
   "id": "6d466017",
   "metadata": {},
   "source": [
    "### Rename columns and remove space or special characters so that we can query easily for our analysis"
   ]
  },
  {
   "cell_type": "code",
   "execution_count": 9,
   "id": "6975f7e1",
   "metadata": {},
   "outputs": [],
   "source": [
    "inp0.rename(columns = {'Drop timestamp':'Drop_timestamp','Driver id':'Driver_id','Request id':'Request_id','Pickup point':'Pickup_point','Request timestamp':'Request_timestamp'}, inplace = True)"
   ]
  },
  {
   "cell_type": "markdown",
   "id": "1ee65af9",
   "metadata": {},
   "source": [
    "### Data set with column names after removing space or special characters"
   ]
  },
  {
   "cell_type": "code",
   "execution_count": 10,
   "id": "22290a8f",
   "metadata": {},
   "outputs": [
    {
     "data": {
      "text/html": [
       "<div>\n",
       "<style scoped>\n",
       "    .dataframe tbody tr th:only-of-type {\n",
       "        vertical-align: middle;\n",
       "    }\n",
       "\n",
       "    .dataframe tbody tr th {\n",
       "        vertical-align: top;\n",
       "    }\n",
       "\n",
       "    .dataframe thead th {\n",
       "        text-align: right;\n",
       "    }\n",
       "</style>\n",
       "<table border=\"1\" class=\"dataframe\">\n",
       "  <thead>\n",
       "    <tr style=\"text-align: right;\">\n",
       "      <th></th>\n",
       "      <th>Request_id</th>\n",
       "      <th>Pickup_point</th>\n",
       "      <th>Status</th>\n",
       "      <th>Request_timestamp</th>\n",
       "      <th>Drop_timestamp</th>\n",
       "    </tr>\n",
       "  </thead>\n",
       "  <tbody>\n",
       "    <tr>\n",
       "      <th>0</th>\n",
       "      <td>619</td>\n",
       "      <td>Airport</td>\n",
       "      <td>Trip Completed</td>\n",
       "      <td>11/7/2016 11:51</td>\n",
       "      <td>11/7/2016 13:00</td>\n",
       "    </tr>\n",
       "    <tr>\n",
       "      <th>1</th>\n",
       "      <td>867</td>\n",
       "      <td>Airport</td>\n",
       "      <td>Trip Completed</td>\n",
       "      <td>11/7/2016 17:57</td>\n",
       "      <td>11/7/2016 18:47</td>\n",
       "    </tr>\n",
       "    <tr>\n",
       "      <th>2</th>\n",
       "      <td>1807</td>\n",
       "      <td>City</td>\n",
       "      <td>Trip Completed</td>\n",
       "      <td>12/7/2016 9:17</td>\n",
       "      <td>12/7/2016 9:58</td>\n",
       "    </tr>\n",
       "    <tr>\n",
       "      <th>3</th>\n",
       "      <td>2532</td>\n",
       "      <td>Airport</td>\n",
       "      <td>Trip Completed</td>\n",
       "      <td>12/7/2016 21:08</td>\n",
       "      <td>12/7/2016 22:03</td>\n",
       "    </tr>\n",
       "    <tr>\n",
       "      <th>4</th>\n",
       "      <td>3112</td>\n",
       "      <td>City</td>\n",
       "      <td>Trip Completed</td>\n",
       "      <td>13-07-2016 08:33:16</td>\n",
       "      <td>13-07-2016 09:25:47</td>\n",
       "    </tr>\n",
       "  </tbody>\n",
       "</table>\n",
       "</div>"
      ],
      "text/plain": [
       "   Request_id Pickup_point          Status    Request_timestamp  \\\n",
       "0         619      Airport  Trip Completed      11/7/2016 11:51   \n",
       "1         867      Airport  Trip Completed      11/7/2016 17:57   \n",
       "2        1807         City  Trip Completed       12/7/2016 9:17   \n",
       "3        2532      Airport  Trip Completed      12/7/2016 21:08   \n",
       "4        3112         City  Trip Completed  13-07-2016 08:33:16   \n",
       "\n",
       "        Drop_timestamp  \n",
       "0      11/7/2016 13:00  \n",
       "1      11/7/2016 18:47  \n",
       "2       12/7/2016 9:58  \n",
       "3      12/7/2016 22:03  \n",
       "4  13-07-2016 09:25:47  "
      ]
     },
     "execution_count": 10,
     "metadata": {},
     "output_type": "execute_result"
    }
   ],
   "source": [
    "inp0.head()"
   ]
  },
  {
   "cell_type": "markdown",
   "id": "6ee84514",
   "metadata": {},
   "source": [
    "### Converting \"Request_timestamp\" & \"Drop_timestamp\" columns dtypes to datetime"
   ]
  },
  {
   "cell_type": "code",
   "execution_count": 11,
   "id": "1fabda16",
   "metadata": {},
   "outputs": [],
   "source": [
    "inp0['Request_timestamp'] = pd.to_datetime(inp0['Request_timestamp'])\n",
    "inp0['Drop_timestamp'] = pd.to_datetime(inp0['Drop_timestamp'])"
   ]
  },
  {
   "cell_type": "code",
   "execution_count": 12,
   "id": "b1c648b2",
   "metadata": {},
   "outputs": [
    {
     "name": "stdout",
     "output_type": "stream",
     "text": [
      "<class 'pandas.core.frame.DataFrame'>\n",
      "RangeIndex: 6745 entries, 0 to 6744\n",
      "Data columns (total 5 columns):\n",
      " #   Column             Non-Null Count  Dtype         \n",
      "---  ------             --------------  -----         \n",
      " 0   Request_id         6745 non-null   int64         \n",
      " 1   Pickup_point       6745 non-null   object        \n",
      " 2   Status             6745 non-null   object        \n",
      " 3   Request_timestamp  6745 non-null   datetime64[ns]\n",
      " 4   Drop_timestamp     2831 non-null   datetime64[ns]\n",
      "dtypes: datetime64[ns](2), int64(1), object(2)\n",
      "memory usage: 263.6+ KB\n"
     ]
    }
   ],
   "source": [
    "inp0.info()"
   ]
  },
  {
   "cell_type": "code",
   "execution_count": 13,
   "id": "d264695d",
   "metadata": {},
   "outputs": [
    {
     "data": {
      "text/plain": [
       "Drop_timestamp       3914\n",
       "Request_id              0\n",
       "Pickup_point            0\n",
       "Status                  0\n",
       "Request_timestamp       0\n",
       "dtype: int64"
      ]
     },
     "execution_count": 13,
     "metadata": {},
     "output_type": "execute_result"
    }
   ],
   "source": [
    "inp0.isna().sum().sort_values(ascending = False)"
   ]
  },
  {
   "cell_type": "markdown",
   "id": "1801bed3",
   "metadata": {},
   "source": [
    "### Lets investigate \"Drop_timestamp\" column null values"
   ]
  },
  {
   "cell_type": "code",
   "execution_count": 14,
   "id": "68d30a75",
   "metadata": {},
   "outputs": [
    {
     "data": {
      "text/html": [
       "<div>\n",
       "<style scoped>\n",
       "    .dataframe tbody tr th:only-of-type {\n",
       "        vertical-align: middle;\n",
       "    }\n",
       "\n",
       "    .dataframe tbody tr th {\n",
       "        vertical-align: top;\n",
       "    }\n",
       "\n",
       "    .dataframe thead th {\n",
       "        text-align: right;\n",
       "    }\n",
       "</style>\n",
       "<table border=\"1\" class=\"dataframe\">\n",
       "  <thead>\n",
       "    <tr style=\"text-align: right;\">\n",
       "      <th></th>\n",
       "      <th>Request_id</th>\n",
       "      <th>Pickup_point</th>\n",
       "      <th>Status</th>\n",
       "      <th>Request_timestamp</th>\n",
       "      <th>Drop_timestamp</th>\n",
       "    </tr>\n",
       "  </thead>\n",
       "  <tbody>\n",
       "    <tr>\n",
       "      <th>2831</th>\n",
       "      <td>2905</td>\n",
       "      <td>City</td>\n",
       "      <td>Cancelled</td>\n",
       "      <td>2016-07-13 06:08:41</td>\n",
       "      <td>NaT</td>\n",
       "    </tr>\n",
       "    <tr>\n",
       "      <th>2832</th>\n",
       "      <td>4805</td>\n",
       "      <td>City</td>\n",
       "      <td>Cancelled</td>\n",
       "      <td>2016-07-14 17:07:58</td>\n",
       "      <td>NaT</td>\n",
       "    </tr>\n",
       "    <tr>\n",
       "      <th>2833</th>\n",
       "      <td>5202</td>\n",
       "      <td>Airport</td>\n",
       "      <td>Cancelled</td>\n",
       "      <td>2016-07-14 20:51:37</td>\n",
       "      <td>NaT</td>\n",
       "    </tr>\n",
       "    <tr>\n",
       "      <th>2834</th>\n",
       "      <td>5927</td>\n",
       "      <td>City</td>\n",
       "      <td>Cancelled</td>\n",
       "      <td>2016-07-15 10:12:40</td>\n",
       "      <td>NaT</td>\n",
       "    </tr>\n",
       "    <tr>\n",
       "      <th>2835</th>\n",
       "      <td>2347</td>\n",
       "      <td>Airport</td>\n",
       "      <td>Cancelled</td>\n",
       "      <td>2016-12-07 19:14:00</td>\n",
       "      <td>NaT</td>\n",
       "    </tr>\n",
       "    <tr>\n",
       "      <th>...</th>\n",
       "      <td>...</td>\n",
       "      <td>...</td>\n",
       "      <td>...</td>\n",
       "      <td>...</td>\n",
       "      <td>...</td>\n",
       "    </tr>\n",
       "    <tr>\n",
       "      <th>6740</th>\n",
       "      <td>6745</td>\n",
       "      <td>City</td>\n",
       "      <td>No Cars Available</td>\n",
       "      <td>2016-07-15 23:49:03</td>\n",
       "      <td>NaT</td>\n",
       "    </tr>\n",
       "    <tr>\n",
       "      <th>6741</th>\n",
       "      <td>6752</td>\n",
       "      <td>Airport</td>\n",
       "      <td>No Cars Available</td>\n",
       "      <td>2016-07-15 23:50:05</td>\n",
       "      <td>NaT</td>\n",
       "    </tr>\n",
       "    <tr>\n",
       "      <th>6742</th>\n",
       "      <td>6751</td>\n",
       "      <td>City</td>\n",
       "      <td>No Cars Available</td>\n",
       "      <td>2016-07-15 23:52:06</td>\n",
       "      <td>NaT</td>\n",
       "    </tr>\n",
       "    <tr>\n",
       "      <th>6743</th>\n",
       "      <td>6754</td>\n",
       "      <td>City</td>\n",
       "      <td>No Cars Available</td>\n",
       "      <td>2016-07-15 23:54:39</td>\n",
       "      <td>NaT</td>\n",
       "    </tr>\n",
       "    <tr>\n",
       "      <th>6744</th>\n",
       "      <td>6753</td>\n",
       "      <td>Airport</td>\n",
       "      <td>No Cars Available</td>\n",
       "      <td>2016-07-15 23:55:03</td>\n",
       "      <td>NaT</td>\n",
       "    </tr>\n",
       "  </tbody>\n",
       "</table>\n",
       "<p>3914 rows × 5 columns</p>\n",
       "</div>"
      ],
      "text/plain": [
       "      Request_id Pickup_point             Status   Request_timestamp  \\\n",
       "2831        2905         City          Cancelled 2016-07-13 06:08:41   \n",
       "2832        4805         City          Cancelled 2016-07-14 17:07:58   \n",
       "2833        5202      Airport          Cancelled 2016-07-14 20:51:37   \n",
       "2834        5927         City          Cancelled 2016-07-15 10:12:40   \n",
       "2835        2347      Airport          Cancelled 2016-12-07 19:14:00   \n",
       "...          ...          ...                ...                 ...   \n",
       "6740        6745         City  No Cars Available 2016-07-15 23:49:03   \n",
       "6741        6752      Airport  No Cars Available 2016-07-15 23:50:05   \n",
       "6742        6751         City  No Cars Available 2016-07-15 23:52:06   \n",
       "6743        6754         City  No Cars Available 2016-07-15 23:54:39   \n",
       "6744        6753      Airport  No Cars Available 2016-07-15 23:55:03   \n",
       "\n",
       "     Drop_timestamp  \n",
       "2831            NaT  \n",
       "2832            NaT  \n",
       "2833            NaT  \n",
       "2834            NaT  \n",
       "2835            NaT  \n",
       "...             ...  \n",
       "6740            NaT  \n",
       "6741            NaT  \n",
       "6742            NaT  \n",
       "6743            NaT  \n",
       "6744            NaT  \n",
       "\n",
       "[3914 rows x 5 columns]"
      ]
     },
     "execution_count": 14,
     "metadata": {},
     "output_type": "execute_result"
    }
   ],
   "source": [
    "inp0[inp0.Drop_timestamp.isna()]"
   ]
  },
  {
   "cell_type": "markdown",
   "id": "5a2a9840",
   "metadata": {},
   "source": [
    "### Lets investigate further and see \"Drop_timestamp\"  null values based on categorical value column \"Status\""
   ]
  },
  {
   "cell_type": "code",
   "execution_count": 15,
   "id": "ff0c5c2f",
   "metadata": {},
   "outputs": [
    {
     "data": {
      "text/plain": [
       "Status\n",
       "Cancelled            1264\n",
       "No Cars Available    2650\n",
       "dtype: int64"
      ]
     },
     "execution_count": 15,
     "metadata": {},
     "output_type": "execute_result"
    }
   ],
   "source": [
    "inp0[(inp0['Drop_timestamp'].isna())].groupby('Status').size()"
   ]
  },
  {
   "cell_type": "markdown",
   "id": "28c7d1ab",
   "metadata": {},
   "source": [
    "#### Conclusion: Drop_timestamp column values are null only when status is equal to \"Cancelled\" or \"No Cars Available\" which is valid scenarion. Hence will not drop the rows\n",
    "1264+2650 = 3914   --- This maps to overall null values and gives us an idea that even status column is clean with no unknown wrong status"
   ]
  },
  {
   "cell_type": "markdown",
   "id": "0f66f836",
   "metadata": {},
   "source": [
    "----------------------------------------------------\n",
    "------------------------------------------------"
   ]
  },
  {
   "cell_type": "markdown",
   "id": "88e1160b",
   "metadata": {},
   "source": [
    "## Question-1: Visually identify the most pressing problems for Uber. \n",
    "#### Create plots to visualize the frequency of requests that get canceled or show 'no cars available'; identify the most problematic types of requests (city to airport/airport to city etc.) and the time slots (early mornings, late evenings etc.) using plots"
   ]
  },
  {
   "cell_type": "markdown",
   "id": "414b7333",
   "metadata": {},
   "source": [
    "## Univariate Analysis"
   ]
  },
  {
   "cell_type": "code",
   "execution_count": 16,
   "id": "2491b5aa",
   "metadata": {},
   "outputs": [
    {
     "data": {
      "image/png": "[encoded data removed]",
      "text/plain": [
       "<Figure size 720x360 with 1 Axes>"
      ]
     },
     "metadata": {
      "needs_background": "light"
     },
     "output_type": "display_data"
    }
   ],
   "source": [
    "plt.figure(figsize=(10,5))\n",
    "inp0.Status.value_counts(normalize=True,ascending=True).plot.bar()\n",
    "plt.show()"
   ]
  },
  {
   "cell_type": "code",
   "execution_count": 17,
   "id": "afd2c4c3",
   "metadata": {},
   "outputs": [
    {
     "data": {
      "image/png": "[encoded data removed]",
      "text/plain": [
       "<Figure size 720x360 with 1 Axes>"
      ]
     },
     "metadata": {},
     "output_type": "display_data"
    }
   ],
   "source": [
    "plt.figure(figsize=(10,5))\n",
    "inp0.Status.value_counts(normalize=True,ascending=False).plot.pie()\n",
    "plt.show()"
   ]
  },
  {
   "cell_type": "markdown",
   "id": "aa593a57",
   "metadata": {},
   "source": [
    "### Question: 1a frequency of requests that get canceled or show 'no cars available'\n",
    "### <span style='background :yellow' >Above Barplot & Pie chart two visuals for frequency of requests that get \"Cancelled\" or \"No cars Available\" </span>\n",
    "### <span style='background :yellow' > Answer : </span>\n",
    "#### The above plot gives us an insight that \"No Cars Available\" frequency is more than \"Cancelled\""
   ]
  },
  {
   "cell_type": "markdown",
   "id": "35236709",
   "metadata": {},
   "source": [
    "## Bivariate Analysis"
   ]
  },
  {
   "cell_type": "markdown",
   "id": "f1543e80",
   "metadata": {},
   "source": [
    "#### Let us analyze count of trips for each status with respect to Pickup_points"
   ]
  },
  {
   "cell_type": "code",
   "execution_count": 18,
   "id": "4932616a",
   "metadata": {},
   "outputs": [
    {
     "data": {
      "text/plain": [
       "Status             Pickup_point\n",
       "Cancelled          Airport          198\n",
       "                   City            1066\n",
       "No Cars Available  Airport         1713\n",
       "                   City             937\n",
       "Trip Completed     Airport         1327\n",
       "                   City            1504\n",
       "dtype: int64"
      ]
     },
     "execution_count": 18,
     "metadata": {},
     "output_type": "execute_result"
    }
   ],
   "source": [
    "inp0.groupby(['Status', 'Pickup_point']).size()"
   ]
  },
  {
   "cell_type": "markdown",
   "id": "8a5ab4ca",
   "metadata": {},
   "source": [
    "#### making use of crosstab approach so that we can make of matplots to plot visual for 2 categorical variables"
   ]
  },
  {
   "cell_type": "code",
   "execution_count": 19,
   "id": "c103bdee",
   "metadata": {},
   "outputs": [
    {
     "data": {
      "text/html": [
       "<div>\n",
       "<style scoped>\n",
       "    .dataframe tbody tr th:only-of-type {\n",
       "        vertical-align: middle;\n",
       "    }\n",
       "\n",
       "    .dataframe tbody tr th {\n",
       "        vertical-align: top;\n",
       "    }\n",
       "\n",
       "    .dataframe thead th {\n",
       "        text-align: right;\n",
       "    }\n",
       "</style>\n",
       "<table border=\"1\" class=\"dataframe\">\n",
       "  <thead>\n",
       "    <tr style=\"text-align: right;\">\n",
       "      <th>Status</th>\n",
       "      <th>Cancelled</th>\n",
       "      <th>No Cars Available</th>\n",
       "      <th>Trip Completed</th>\n",
       "    </tr>\n",
       "    <tr>\n",
       "      <th>Pickup_point</th>\n",
       "      <th></th>\n",
       "      <th></th>\n",
       "      <th></th>\n",
       "    </tr>\n",
       "  </thead>\n",
       "  <tbody>\n",
       "    <tr>\n",
       "      <th>Airport</th>\n",
       "      <td>198</td>\n",
       "      <td>1713</td>\n",
       "      <td>1327</td>\n",
       "    </tr>\n",
       "    <tr>\n",
       "      <th>City</th>\n",
       "      <td>1066</td>\n",
       "      <td>937</td>\n",
       "      <td>1504</td>\n",
       "    </tr>\n",
       "  </tbody>\n",
       "</table>\n",
       "</div>"
      ],
      "text/plain": [
       "Status        Cancelled  No Cars Available  Trip Completed\n",
       "Pickup_point                                              \n",
       "Airport             198               1713            1327\n",
       "City               1066                937            1504"
      ]
     },
     "execution_count": 19,
     "metadata": {},
     "output_type": "execute_result"
    }
   ],
   "source": [
    "groupresults=pd.crosstab(index=inp0['Pickup_point'],columns=inp0['Status'])\n",
    "groupresults"
   ]
  },
  {
   "cell_type": "code",
   "execution_count": 20,
   "id": "5a2e7ae7",
   "metadata": {},
   "outputs": [
    {
     "data": {
      "image/png": "[encoded data removed]",
      "text/plain": [
       "<Figure size 432x288 with 1 Axes>"
      ]
     },
     "metadata": {
      "needs_background": "light"
     },
     "output_type": "display_data"
    }
   ],
   "source": [
    "groupresults.plot.bar()\n",
    "plt.legend(bbox_to_anchor=(1.05, 1.0), loc='upper left')\n",
    "plt.ylabel(\"Count\")\n",
    "plt.show()"
   ]
  },
  {
   "cell_type": "markdown",
   "id": "43fc8ae3",
   "metadata": {},
   "source": [
    "#### 1b.identify the most problematic types of requests (city to airport/airport to city etc.) \n",
    "### <span style='background :yellow' > Above Barplot displays most problematic types of requests based on pickup points - city to airport/airport to city  </span>\n",
    "### <span style='background :yellow' > Answer </span>\n",
    "1. From Airport to City there is high frequency for Status = 'No cars available' \n",
    "2. From City to Airport there is high frequency for Status = 'Cancelled'"
   ]
  },
  {
   "cell_type": "markdown",
   "id": "c6988f5f",
   "metadata": {},
   "source": [
    "### Creating \"request_hr\" column and fetching hour data from Request_timestamp"
   ]
  },
  {
   "cell_type": "code",
   "execution_count": 21,
   "id": "acc720d0",
   "metadata": {},
   "outputs": [],
   "source": [
    "inp0['request_hr'] = inp0['Request_timestamp'].dt.hour"
   ]
  },
  {
   "cell_type": "code",
   "execution_count": 22,
   "id": "a1651435",
   "metadata": {},
   "outputs": [
    {
     "data": {
      "text/html": [
       "<div>\n",
       "<style scoped>\n",
       "    .dataframe tbody tr th:only-of-type {\n",
       "        vertical-align: middle;\n",
       "    }\n",
       "\n",
       "    .dataframe tbody tr th {\n",
       "        vertical-align: top;\n",
       "    }\n",
       "\n",
       "    .dataframe thead th {\n",
       "        text-align: right;\n",
       "    }\n",
       "</style>\n",
       "<table border=\"1\" class=\"dataframe\">\n",
       "  <thead>\n",
       "    <tr style=\"text-align: right;\">\n",
       "      <th></th>\n",
       "      <th>Request_id</th>\n",
       "      <th>Pickup_point</th>\n",
       "      <th>Status</th>\n",
       "      <th>Request_timestamp</th>\n",
       "      <th>Drop_timestamp</th>\n",
       "      <th>request_hr</th>\n",
       "    </tr>\n",
       "  </thead>\n",
       "  <tbody>\n",
       "    <tr>\n",
       "      <th>0</th>\n",
       "      <td>619</td>\n",
       "      <td>Airport</td>\n",
       "      <td>Trip Completed</td>\n",
       "      <td>2016-11-07 11:51:00</td>\n",
       "      <td>2016-11-07 13:00:00</td>\n",
       "      <td>11</td>\n",
       "    </tr>\n",
       "    <tr>\n",
       "      <th>1</th>\n",
       "      <td>867</td>\n",
       "      <td>Airport</td>\n",
       "      <td>Trip Completed</td>\n",
       "      <td>2016-11-07 17:57:00</td>\n",
       "      <td>2016-11-07 18:47:00</td>\n",
       "      <td>17</td>\n",
       "    </tr>\n",
       "    <tr>\n",
       "      <th>2</th>\n",
       "      <td>1807</td>\n",
       "      <td>City</td>\n",
       "      <td>Trip Completed</td>\n",
       "      <td>2016-12-07 09:17:00</td>\n",
       "      <td>2016-12-07 09:58:00</td>\n",
       "      <td>9</td>\n",
       "    </tr>\n",
       "    <tr>\n",
       "      <th>3</th>\n",
       "      <td>2532</td>\n",
       "      <td>Airport</td>\n",
       "      <td>Trip Completed</td>\n",
       "      <td>2016-12-07 21:08:00</td>\n",
       "      <td>2016-12-07 22:03:00</td>\n",
       "      <td>21</td>\n",
       "    </tr>\n",
       "    <tr>\n",
       "      <th>4</th>\n",
       "      <td>3112</td>\n",
       "      <td>City</td>\n",
       "      <td>Trip Completed</td>\n",
       "      <td>2016-07-13 08:33:16</td>\n",
       "      <td>2016-07-13 09:25:47</td>\n",
       "      <td>8</td>\n",
       "    </tr>\n",
       "  </tbody>\n",
       "</table>\n",
       "</div>"
      ],
      "text/plain": [
       "   Request_id Pickup_point          Status   Request_timestamp  \\\n",
       "0         619      Airport  Trip Completed 2016-11-07 11:51:00   \n",
       "1         867      Airport  Trip Completed 2016-11-07 17:57:00   \n",
       "2        1807         City  Trip Completed 2016-12-07 09:17:00   \n",
       "3        2532      Airport  Trip Completed 2016-12-07 21:08:00   \n",
       "4        3112         City  Trip Completed 2016-07-13 08:33:16   \n",
       "\n",
       "       Drop_timestamp  request_hr  \n",
       "0 2016-11-07 13:00:00          11  \n",
       "1 2016-11-07 18:47:00          17  \n",
       "2 2016-12-07 09:58:00           9  \n",
       "3 2016-12-07 22:03:00          21  \n",
       "4 2016-07-13 09:25:47           8  "
      ]
     },
     "execution_count": 22,
     "metadata": {},
     "output_type": "execute_result"
    }
   ],
   "source": [
    "inp0.head()"
   ]
  },
  {
   "cell_type": "markdown",
   "id": "4ab40a3a",
   "metadata": {},
   "source": [
    "### Creating New Column \"Request_Time_Slot\" based \"request_hr\" column"
   ]
  },
  {
   "cell_type": "code",
   "execution_count": 23,
   "id": "51bc9c42",
   "metadata": {},
   "outputs": [],
   "source": [
    "inp0.loc[inp0['request_hr'].between(1,4, inclusive=True),'Request_Time_Slot'] = 'Mid Night'\n",
    "inp0.loc[inp0['request_hr'].between(5,8, inclusive=True),'Request_Time_Slot'] = 'Early Morning'\n",
    "inp0.loc[inp0['request_hr'].between(9,12, inclusive=True),'Request_Time_Slot'] = 'Late Morning'\n",
    "inp0.loc[inp0['request_hr'].between(13,16, inclusive=True),'Request_Time_Slot'] = 'Afternoon'\n",
    "inp0.loc[inp0['request_hr'].between(17,20, inclusive=True),'Request_Time_Slot'] = 'Evening'\n",
    "inp0.loc[inp0['request_hr'].between(21,24, inclusive=True),'Request_Time_Slot'] = 'Night'"
   ]
  },
  {
   "cell_type": "code",
   "execution_count": 24,
   "id": "2f72b814",
   "metadata": {},
   "outputs": [
    {
     "data": {
      "text/html": [
       "<div>\n",
       "<style scoped>\n",
       "    .dataframe tbody tr th:only-of-type {\n",
       "        vertical-align: middle;\n",
       "    }\n",
       "\n",
       "    .dataframe tbody tr th {\n",
       "        vertical-align: top;\n",
       "    }\n",
       "\n",
       "    .dataframe thead th {\n",
       "        text-align: right;\n",
       "    }\n",
       "</style>\n",
       "<table border=\"1\" class=\"dataframe\">\n",
       "  <thead>\n",
       "    <tr style=\"text-align: right;\">\n",
       "      <th></th>\n",
       "      <th>Request_id</th>\n",
       "      <th>Pickup_point</th>\n",
       "      <th>Status</th>\n",
       "      <th>Request_timestamp</th>\n",
       "      <th>Drop_timestamp</th>\n",
       "      <th>request_hr</th>\n",
       "      <th>Request_Time_Slot</th>\n",
       "    </tr>\n",
       "  </thead>\n",
       "  <tbody>\n",
       "    <tr>\n",
       "      <th>0</th>\n",
       "      <td>619</td>\n",
       "      <td>Airport</td>\n",
       "      <td>Trip Completed</td>\n",
       "      <td>2016-11-07 11:51:00</td>\n",
       "      <td>2016-11-07 13:00:00</td>\n",
       "      <td>11</td>\n",
       "      <td>Late Morning</td>\n",
       "    </tr>\n",
       "    <tr>\n",
       "      <th>1</th>\n",
       "      <td>867</td>\n",
       "      <td>Airport</td>\n",
       "      <td>Trip Completed</td>\n",
       "      <td>2016-11-07 17:57:00</td>\n",
       "      <td>2016-11-07 18:47:00</td>\n",
       "      <td>17</td>\n",
       "      <td>Evening</td>\n",
       "    </tr>\n",
       "    <tr>\n",
       "      <th>2</th>\n",
       "      <td>1807</td>\n",
       "      <td>City</td>\n",
       "      <td>Trip Completed</td>\n",
       "      <td>2016-12-07 09:17:00</td>\n",
       "      <td>2016-12-07 09:58:00</td>\n",
       "      <td>9</td>\n",
       "      <td>Late Morning</td>\n",
       "    </tr>\n",
       "    <tr>\n",
       "      <th>3</th>\n",
       "      <td>2532</td>\n",
       "      <td>Airport</td>\n",
       "      <td>Trip Completed</td>\n",
       "      <td>2016-12-07 21:08:00</td>\n",
       "      <td>2016-12-07 22:03:00</td>\n",
       "      <td>21</td>\n",
       "      <td>Night</td>\n",
       "    </tr>\n",
       "    <tr>\n",
       "      <th>4</th>\n",
       "      <td>3112</td>\n",
       "      <td>City</td>\n",
       "      <td>Trip Completed</td>\n",
       "      <td>2016-07-13 08:33:16</td>\n",
       "      <td>2016-07-13 09:25:47</td>\n",
       "      <td>8</td>\n",
       "      <td>Early Morning</td>\n",
       "    </tr>\n",
       "  </tbody>\n",
       "</table>\n",
       "</div>"
      ],
      "text/plain": [
       "   Request_id Pickup_point          Status   Request_timestamp  \\\n",
       "0         619      Airport  Trip Completed 2016-11-07 11:51:00   \n",
       "1         867      Airport  Trip Completed 2016-11-07 17:57:00   \n",
       "2        1807         City  Trip Completed 2016-12-07 09:17:00   \n",
       "3        2532      Airport  Trip Completed 2016-12-07 21:08:00   \n",
       "4        3112         City  Trip Completed 2016-07-13 08:33:16   \n",
       "\n",
       "       Drop_timestamp  request_hr Request_Time_Slot  \n",
       "0 2016-11-07 13:00:00          11      Late Morning  \n",
       "1 2016-11-07 18:47:00          17           Evening  \n",
       "2 2016-12-07 09:58:00           9      Late Morning  \n",
       "3 2016-12-07 22:03:00          21             Night  \n",
       "4 2016-07-13 09:25:47           8     Early Morning  "
      ]
     },
     "execution_count": 24,
     "metadata": {},
     "output_type": "execute_result"
    }
   ],
   "source": [
    "inp0.head()"
   ]
  },
  {
   "cell_type": "code",
   "execution_count": 25,
   "id": "3501ebdc",
   "metadata": {},
   "outputs": [
    {
     "name": "stdout",
     "output_type": "stream",
     "text": [
      "<class 'pandas.core.frame.DataFrame'>\n",
      "RangeIndex: 6745 entries, 0 to 6744\n",
      "Data columns (total 7 columns):\n",
      " #   Column             Non-Null Count  Dtype         \n",
      "---  ------             --------------  -----         \n",
      " 0   Request_id         6745 non-null   int64         \n",
      " 1   Pickup_point       6745 non-null   object        \n",
      " 2   Status             6745 non-null   object        \n",
      " 3   Request_timestamp  6745 non-null   datetime64[ns]\n",
      " 4   Drop_timestamp     2831 non-null   datetime64[ns]\n",
      " 5   request_hr         6745 non-null   int64         \n",
      " 6   Request_Time_Slot  6646 non-null   object        \n",
      "dtypes: datetime64[ns](2), int64(2), object(3)\n",
      "memory usage: 369.0+ KB\n"
     ]
    }
   ],
   "source": [
    "inp0.info()"
   ]
  },
  {
   "cell_type": "markdown",
   "id": "8ce1a2dc",
   "metadata": {},
   "source": [
    "### Lets use the similar approach of cross tab and see how \"Request_Time_Slot \" vs \"Status\" map"
   ]
  },
  {
   "cell_type": "code",
   "execution_count": 26,
   "id": "134e8b2d",
   "metadata": {},
   "outputs": [
    {
     "data": {
      "text/html": [
       "<div>\n",
       "<style scoped>\n",
       "    .dataframe tbody tr th:only-of-type {\n",
       "        vertical-align: middle;\n",
       "    }\n",
       "\n",
       "    .dataframe tbody tr th {\n",
       "        vertical-align: top;\n",
       "    }\n",
       "\n",
       "    .dataframe thead th {\n",
       "        text-align: right;\n",
       "    }\n",
       "</style>\n",
       "<table border=\"1\" class=\"dataframe\">\n",
       "  <thead>\n",
       "    <tr style=\"text-align: right;\">\n",
       "      <th>Status</th>\n",
       "      <th>Cancelled</th>\n",
       "      <th>No Cars Available</th>\n",
       "      <th>Trip Completed</th>\n",
       "    </tr>\n",
       "    <tr>\n",
       "      <th>Request_Time_Slot</th>\n",
       "      <th></th>\n",
       "      <th></th>\n",
       "      <th></th>\n",
       "    </tr>\n",
       "  </thead>\n",
       "  <tbody>\n",
       "    <tr>\n",
       "      <th>Afternoon</th>\n",
       "      <td>72</td>\n",
       "      <td>184</td>\n",
       "      <td>370</td>\n",
       "    </tr>\n",
       "    <tr>\n",
       "      <th>Early Morning</th>\n",
       "      <td>668</td>\n",
       "      <td>323</td>\n",
       "      <td>681</td>\n",
       "    </tr>\n",
       "    <tr>\n",
       "      <th>Evening</th>\n",
       "      <td>124</td>\n",
       "      <td>1127</td>\n",
       "      <td>642</td>\n",
       "    </tr>\n",
       "    <tr>\n",
       "      <th>Late Morning</th>\n",
       "      <td>271</td>\n",
       "      <td>233</td>\n",
       "      <td>525</td>\n",
       "    </tr>\n",
       "    <tr>\n",
       "      <th>Mid Night</th>\n",
       "      <td>62</td>\n",
       "      <td>243</td>\n",
       "      <td>174</td>\n",
       "    </tr>\n",
       "    <tr>\n",
       "      <th>Night</th>\n",
       "      <td>64</td>\n",
       "      <td>484</td>\n",
       "      <td>399</td>\n",
       "    </tr>\n",
       "  </tbody>\n",
       "</table>\n",
       "</div>"
      ],
      "text/plain": [
       "Status             Cancelled  No Cars Available  Trip Completed\n",
       "Request_Time_Slot                                              \n",
       "Afternoon                 72                184             370\n",
       "Early Morning            668                323             681\n",
       "Evening                  124               1127             642\n",
       "Late Morning             271                233             525\n",
       "Mid Night                 62                243             174\n",
       "Night                     64                484             399"
      ]
     },
     "execution_count": 26,
     "metadata": {},
     "output_type": "execute_result"
    }
   ],
   "source": [
    "timeslotresults=pd.crosstab(index=inp0['Request_Time_Slot'],columns=inp0['Status'])\n",
    "timeslotresults"
   ]
  },
  {
   "cell_type": "code",
   "execution_count": 27,
   "id": "41394fd0",
   "metadata": {},
   "outputs": [
    {
     "data": {
      "image/png": "[encoded data removed]",
      "text/plain": [
       "<Figure size 1080x576 with 1 Axes>"
      ]
     },
     "metadata": {
      "needs_background": "light"
     },
     "output_type": "display_data"
    }
   ],
   "source": [
    "timeslotresults.plot.bar()\n",
    "plt.legend(bbox_to_anchor=(1.05, 1.0), loc='upper left')\n",
    "plt.ylabel(\"Trips Count\")\n",
    "plt.title(\"Status at Different Timeslots\")\n",
    "plt.xticks(rotation=0, horizontalalignment=\"center\")\n",
    "plt.gcf().set_size_inches(15, 8)\n",
    "plt.show()"
   ]
  },
  {
   "cell_type": "markdown",
   "id": "6a4252f2",
   "metadata": {},
   "source": [
    "#### 1c.The time slots displaying high frequecy for \"Cancelled\" and \"No Cars Available\"\n",
    "### <span style='background :yellow' > Above Barplot displays time slots with high frequecy for \"Cancelled\" and \"No Cars Available\"  </span>\n",
    "### <span style='background :yellow' > Answer </span>\n",
    "1. \"Cancelled\" frequency is high during Early Morning (5 am -8 am)\n",
    "2. \"No Cars Available\" frequency is high during Evening (17 pm - 20 pm)"
   ]
  },
  {
   "cell_type": "markdown",
   "id": "3f7aec7c",
   "metadata": {},
   "source": [
    "---------------------------------\n",
    "----------------------------------"
   ]
  },
  {
   "cell_type": "markdown",
   "id": "f5f4bf0d",
   "metadata": {},
   "source": [
    "## Question 2: Find out the gap between supply and demand and show the same using plots."
   ]
  },
  {
   "cell_type": "markdown",
   "id": "f7f90085",
   "metadata": {},
   "source": [
    "## Gap between Demand Vs Supply "
   ]
  },
  {
   "cell_type": "markdown",
   "id": "5a41d4d1",
   "metadata": {},
   "source": [
    "#### Creating Gap column and assigning Status values as\n",
    "1. \"Demand met - Trip completed\" for Trip Completed status\n",
    "2. \"Demand not met - Trip not completed\" for \"Cancelled\" & \"No Cars Available\" status\n",
    "\n",
    "#### Explaination : A trip is said to be \"Trip Completed\" when Demand and supply is met, were as if a trip is \"Cancelled\" or \"No Cars Available\" is only when supply is not met to the demand."
   ]
  },
  {
   "cell_type": "code",
   "execution_count": 28,
   "id": "360ea5b2",
   "metadata": {},
   "outputs": [],
   "source": [
    "Conditions = [(inp0['Status'] == 'Cancelled')|(inp0['Status'] == 'No Cars Available'),inp0['Status'] == 'Trip Completed']\n",
    "vals =[\"Demand not met - Trip not completed\",\"Demand met - Trip completed\"]"
   ]
  },
  {
   "cell_type": "code",
   "execution_count": 29,
   "id": "d3d44607",
   "metadata": {},
   "outputs": [],
   "source": [
    "inp0[\"Gap\"] = np.select(Conditions, vals)"
   ]
  },
  {
   "cell_type": "code",
   "execution_count": 30,
   "id": "2e5be9f9",
   "metadata": {},
   "outputs": [
    {
     "data": {
      "text/html": [
       "<div>\n",
       "<style scoped>\n",
       "    .dataframe tbody tr th:only-of-type {\n",
       "        vertical-align: middle;\n",
       "    }\n",
       "\n",
       "    .dataframe tbody tr th {\n",
       "        vertical-align: top;\n",
       "    }\n",
       "\n",
       "    .dataframe thead th {\n",
       "        text-align: right;\n",
       "    }\n",
       "</style>\n",
       "<table border=\"1\" class=\"dataframe\">\n",
       "  <thead>\n",
       "    <tr style=\"text-align: right;\">\n",
       "      <th></th>\n",
       "      <th>Request_id</th>\n",
       "      <th>Pickup_point</th>\n",
       "      <th>Status</th>\n",
       "      <th>Request_timestamp</th>\n",
       "      <th>Drop_timestamp</th>\n",
       "      <th>request_hr</th>\n",
       "      <th>Request_Time_Slot</th>\n",
       "      <th>Gap</th>\n",
       "    </tr>\n",
       "  </thead>\n",
       "  <tbody>\n",
       "    <tr>\n",
       "      <th>0</th>\n",
       "      <td>619</td>\n",
       "      <td>Airport</td>\n",
       "      <td>Trip Completed</td>\n",
       "      <td>2016-11-07 11:51:00</td>\n",
       "      <td>2016-11-07 13:00:00</td>\n",
       "      <td>11</td>\n",
       "      <td>Late Morning</td>\n",
       "      <td>Demand met - Trip completed</td>\n",
       "    </tr>\n",
       "    <tr>\n",
       "      <th>1</th>\n",
       "      <td>867</td>\n",
       "      <td>Airport</td>\n",
       "      <td>Trip Completed</td>\n",
       "      <td>2016-11-07 17:57:00</td>\n",
       "      <td>2016-11-07 18:47:00</td>\n",
       "      <td>17</td>\n",
       "      <td>Evening</td>\n",
       "      <td>Demand met - Trip completed</td>\n",
       "    </tr>\n",
       "    <tr>\n",
       "      <th>2</th>\n",
       "      <td>1807</td>\n",
       "      <td>City</td>\n",
       "      <td>Trip Completed</td>\n",
       "      <td>2016-12-07 09:17:00</td>\n",
       "      <td>2016-12-07 09:58:00</td>\n",
       "      <td>9</td>\n",
       "      <td>Late Morning</td>\n",
       "      <td>Demand met - Trip completed</td>\n",
       "    </tr>\n",
       "    <tr>\n",
       "      <th>3</th>\n",
       "      <td>2532</td>\n",
       "      <td>Airport</td>\n",
       "      <td>Trip Completed</td>\n",
       "      <td>2016-12-07 21:08:00</td>\n",
       "      <td>2016-12-07 22:03:00</td>\n",
       "      <td>21</td>\n",
       "      <td>Night</td>\n",
       "      <td>Demand met - Trip completed</td>\n",
       "    </tr>\n",
       "    <tr>\n",
       "      <th>4</th>\n",
       "      <td>3112</td>\n",
       "      <td>City</td>\n",
       "      <td>Trip Completed</td>\n",
       "      <td>2016-07-13 08:33:16</td>\n",
       "      <td>2016-07-13 09:25:47</td>\n",
       "      <td>8</td>\n",
       "      <td>Early Morning</td>\n",
       "      <td>Demand met - Trip completed</td>\n",
       "    </tr>\n",
       "  </tbody>\n",
       "</table>\n",
       "</div>"
      ],
      "text/plain": [
       "   Request_id Pickup_point          Status   Request_timestamp  \\\n",
       "0         619      Airport  Trip Completed 2016-11-07 11:51:00   \n",
       "1         867      Airport  Trip Completed 2016-11-07 17:57:00   \n",
       "2        1807         City  Trip Completed 2016-12-07 09:17:00   \n",
       "3        2532      Airport  Trip Completed 2016-12-07 21:08:00   \n",
       "4        3112         City  Trip Completed 2016-07-13 08:33:16   \n",
       "\n",
       "       Drop_timestamp  request_hr Request_Time_Slot  \\\n",
       "0 2016-11-07 13:00:00          11      Late Morning   \n",
       "1 2016-11-07 18:47:00          17           Evening   \n",
       "2 2016-12-07 09:58:00           9      Late Morning   \n",
       "3 2016-12-07 22:03:00          21             Night   \n",
       "4 2016-07-13 09:25:47           8     Early Morning   \n",
       "\n",
       "                           Gap  \n",
       "0  Demand met - Trip completed  \n",
       "1  Demand met - Trip completed  \n",
       "2  Demand met - Trip completed  \n",
       "3  Demand met - Trip completed  \n",
       "4  Demand met - Trip completed  "
      ]
     },
     "execution_count": 30,
     "metadata": {},
     "output_type": "execute_result"
    }
   ],
   "source": [
    "inp0.head()"
   ]
  },
  {
   "cell_type": "code",
   "execution_count": 31,
   "id": "62240f0e",
   "metadata": {},
   "outputs": [
    {
     "name": "stdout",
     "output_type": "stream",
     "text": [
      "<class 'pandas.core.frame.DataFrame'>\n",
      "RangeIndex: 6745 entries, 0 to 6744\n",
      "Data columns (total 8 columns):\n",
      " #   Column             Non-Null Count  Dtype         \n",
      "---  ------             --------------  -----         \n",
      " 0   Request_id         6745 non-null   int64         \n",
      " 1   Pickup_point       6745 non-null   object        \n",
      " 2   Status             6745 non-null   object        \n",
      " 3   Request_timestamp  6745 non-null   datetime64[ns]\n",
      " 4   Drop_timestamp     2831 non-null   datetime64[ns]\n",
      " 5   request_hr         6745 non-null   int64         \n",
      " 6   Request_Time_Slot  6646 non-null   object        \n",
      " 7   Gap                6745 non-null   object        \n",
      "dtypes: datetime64[ns](2), int64(2), object(4)\n",
      "memory usage: 421.7+ KB\n"
     ]
    }
   ],
   "source": [
    "inp0.info()"
   ]
  },
  {
   "cell_type": "code",
   "execution_count": 32,
   "id": "b9a9b2c2",
   "metadata": {},
   "outputs": [
    {
     "data": {
      "image/png": "[encoded data removed]",
      "text/plain": [
       "<Figure size 720x360 with 1 Axes>"
      ]
     },
     "metadata": {
      "needs_background": "light"
     },
     "output_type": "display_data"
    }
   ],
   "source": [
    "plt.figure(figsize=(10,5))\n",
    "inp0.Gap.value_counts(ascending=True).plot(kind='bar', color=['Blue','Red'])\n",
    "plt.ylabel(\"Trips Count\")\n",
    "plt.xlabel(\"Demand-Supply Status\")\n",
    "plt.title(\"Demand Vs Supply Gap\")\n",
    "plt.xticks(rotation=0, horizontalalignment=\"center\")\n",
    "plt.show()"
   ]
  },
  {
   "cell_type": "code",
   "execution_count": 33,
   "id": "f1610362",
   "metadata": {},
   "outputs": [
    {
     "data": {
      "text/html": [
       "<div>\n",
       "<style scoped>\n",
       "    .dataframe tbody tr th:only-of-type {\n",
       "        vertical-align: middle;\n",
       "    }\n",
       "\n",
       "    .dataframe tbody tr th {\n",
       "        vertical-align: top;\n",
       "    }\n",
       "\n",
       "    .dataframe thead th {\n",
       "        text-align: right;\n",
       "    }\n",
       "</style>\n",
       "<table border=\"1\" class=\"dataframe\">\n",
       "  <thead>\n",
       "    <tr style=\"text-align: right;\">\n",
       "      <th>Gap</th>\n",
       "      <th>Demand met - Trip completed</th>\n",
       "      <th>Demand not met - Trip not completed</th>\n",
       "    </tr>\n",
       "    <tr>\n",
       "      <th>Request_Time_Slot</th>\n",
       "      <th></th>\n",
       "      <th></th>\n",
       "    </tr>\n",
       "  </thead>\n",
       "  <tbody>\n",
       "    <tr>\n",
       "      <th>Afternoon</th>\n",
       "      <td>370</td>\n",
       "      <td>256</td>\n",
       "    </tr>\n",
       "    <tr>\n",
       "      <th>Early Morning</th>\n",
       "      <td>681</td>\n",
       "      <td>991</td>\n",
       "    </tr>\n",
       "    <tr>\n",
       "      <th>Evening</th>\n",
       "      <td>642</td>\n",
       "      <td>1251</td>\n",
       "    </tr>\n",
       "    <tr>\n",
       "      <th>Late Morning</th>\n",
       "      <td>525</td>\n",
       "      <td>504</td>\n",
       "    </tr>\n",
       "    <tr>\n",
       "      <th>Mid Night</th>\n",
       "      <td>174</td>\n",
       "      <td>305</td>\n",
       "    </tr>\n",
       "    <tr>\n",
       "      <th>Night</th>\n",
       "      <td>399</td>\n",
       "      <td>548</td>\n",
       "    </tr>\n",
       "  </tbody>\n",
       "</table>\n",
       "</div>"
      ],
      "text/plain": [
       "Gap                Demand met - Trip completed  \\\n",
       "Request_Time_Slot                                \n",
       "Afternoon                                  370   \n",
       "Early Morning                              681   \n",
       "Evening                                    642   \n",
       "Late Morning                               525   \n",
       "Mid Night                                  174   \n",
       "Night                                      399   \n",
       "\n",
       "Gap                Demand not met - Trip not completed  \n",
       "Request_Time_Slot                                       \n",
       "Afternoon                                          256  \n",
       "Early Morning                                      991  \n",
       "Evening                                           1251  \n",
       "Late Morning                                       504  \n",
       "Mid Night                                          305  \n",
       "Night                                              548  "
      ]
     },
     "execution_count": 33,
     "metadata": {},
     "output_type": "execute_result"
    }
   ],
   "source": [
    "gapTimeslot=pd.crosstab(index=inp0['Request_Time_Slot'],columns=inp0['Gap'])\n",
    "gapTimeslot"
   ]
  },
  {
   "cell_type": "code",
   "execution_count": 34,
   "id": "bff0988d",
   "metadata": {},
   "outputs": [
    {
     "data": {
      "image/png": "[encoded data removed]",
      "text/plain": [
       "<Figure size 1080x576 with 1 Axes>"
      ]
     },
     "metadata": {
      "needs_background": "light"
     },
     "output_type": "display_data"
    }
   ],
   "source": [
    "gapTimeslot.plot(kind='bar', color=['Blue','Red'])\n",
    "plt.legend(bbox_to_anchor=(1.05, 1.0), loc='upper left')\n",
    "plt.ylabel(\"Trips Count\")\n",
    "plt.title(\"Demand Vs Supply Gap at Different Timeslots\")\n",
    "plt.xticks(rotation=0, horizontalalignment=\"center\")\n",
    "plt.gcf().set_size_inches(15, 8)\n",
    "plt.show()"
   ]
  },
  {
   "cell_type": "markdown",
   "id": "bbafe8fb",
   "metadata": {},
   "source": [
    "### 2a. Find the time slots when the highest gap exists\n",
    "### <span style='background :yellow' > Above Barplot displays time slots when the highest Demad-Supply Gap exists  </span>\n",
    "### <span style='background :yellow' > Answer: Demand-Supply Gap exists highest at the following Time Slots </span>\n",
    "1. At Early Morning (5 am -8 am)\n",
    "2. At Evening (17 pm - 20 pm)"
   ]
  },
  {
   "cell_type": "code",
   "execution_count": 35,
   "id": "72218c95",
   "metadata": {},
   "outputs": [
    {
     "data": {
      "text/html": [
       "<div>\n",
       "<style scoped>\n",
       "    .dataframe tbody tr th:only-of-type {\n",
       "        vertical-align: middle;\n",
       "    }\n",
       "\n",
       "    .dataframe tbody tr th {\n",
       "        vertical-align: top;\n",
       "    }\n",
       "\n",
       "    .dataframe thead th {\n",
       "        text-align: right;\n",
       "    }\n",
       "</style>\n",
       "<table border=\"1\" class=\"dataframe\">\n",
       "  <thead>\n",
       "    <tr style=\"text-align: right;\">\n",
       "      <th></th>\n",
       "      <th>Gap</th>\n",
       "      <th>Demand met - Trip completed</th>\n",
       "      <th>Demand not met - Trip not completed</th>\n",
       "    </tr>\n",
       "    <tr>\n",
       "      <th>Request_Time_Slot</th>\n",
       "      <th>Pickup_point</th>\n",
       "      <th></th>\n",
       "      <th></th>\n",
       "    </tr>\n",
       "  </thead>\n",
       "  <tbody>\n",
       "    <tr>\n",
       "      <th rowspan=\"2\" valign=\"top\">Afternoon</th>\n",
       "      <th>Airport</th>\n",
       "      <td>162</td>\n",
       "      <td>90</td>\n",
       "    </tr>\n",
       "    <tr>\n",
       "      <th>City</th>\n",
       "      <td>208</td>\n",
       "      <td>166</td>\n",
       "    </tr>\n",
       "    <tr>\n",
       "      <th rowspan=\"2\" valign=\"top\">Early Morning</th>\n",
       "      <th>Airport</th>\n",
       "      <td>308</td>\n",
       "      <td>29</td>\n",
       "    </tr>\n",
       "    <tr>\n",
       "      <th>City</th>\n",
       "      <td>373</td>\n",
       "      <td>962</td>\n",
       "    </tr>\n",
       "    <tr>\n",
       "      <th rowspan=\"2\" valign=\"top\">Evening</th>\n",
       "      <th>Airport</th>\n",
       "      <td>312</td>\n",
       "      <td>1145</td>\n",
       "    </tr>\n",
       "    <tr>\n",
       "      <th>City</th>\n",
       "      <td>330</td>\n",
       "      <td>106</td>\n",
       "    </tr>\n",
       "    <tr>\n",
       "      <th rowspan=\"2\" valign=\"top\">Late Morning</th>\n",
       "      <th>Airport</th>\n",
       "      <td>239</td>\n",
       "      <td>76</td>\n",
       "    </tr>\n",
       "    <tr>\n",
       "      <th>City</th>\n",
       "      <td>286</td>\n",
       "      <td>428</td>\n",
       "    </tr>\n",
       "    <tr>\n",
       "      <th rowspan=\"2\" valign=\"top\">Mid Night</th>\n",
       "      <th>Airport</th>\n",
       "      <td>80</td>\n",
       "      <td>120</td>\n",
       "    </tr>\n",
       "    <tr>\n",
       "      <th>City</th>\n",
       "      <td>94</td>\n",
       "      <td>185</td>\n",
       "    </tr>\n",
       "    <tr>\n",
       "      <th rowspan=\"2\" valign=\"top\">Night</th>\n",
       "      <th>Airport</th>\n",
       "      <td>203</td>\n",
       "      <td>421</td>\n",
       "    </tr>\n",
       "    <tr>\n",
       "      <th>City</th>\n",
       "      <td>196</td>\n",
       "      <td>127</td>\n",
       "    </tr>\n",
       "  </tbody>\n",
       "</table>\n",
       "</div>"
      ],
      "text/plain": [
       "Gap                             Demand met - Trip completed  \\\n",
       "Request_Time_Slot Pickup_point                                \n",
       "Afternoon         Airport                               162   \n",
       "                  City                                  208   \n",
       "Early Morning     Airport                               308   \n",
       "                  City                                  373   \n",
       "Evening           Airport                               312   \n",
       "                  City                                  330   \n",
       "Late Morning      Airport                               239   \n",
       "                  City                                  286   \n",
       "Mid Night         Airport                                80   \n",
       "                  City                                   94   \n",
       "Night             Airport                               203   \n",
       "                  City                                  196   \n",
       "\n",
       "Gap                             Demand not met - Trip not completed  \n",
       "Request_Time_Slot Pickup_point                                       \n",
       "Afternoon         Airport                                        90  \n",
       "                  City                                          166  \n",
       "Early Morning     Airport                                        29  \n",
       "                  City                                          962  \n",
       "Evening           Airport                                      1145  \n",
       "                  City                                          106  \n",
       "Late Morning      Airport                                        76  \n",
       "                  City                                          428  \n",
       "Mid Night         Airport                                       120  \n",
       "                  City                                          185  \n",
       "Night             Airport                                       421  \n",
       "                  City                                          127  "
      ]
     },
     "execution_count": 35,
     "metadata": {},
     "output_type": "execute_result"
    }
   ],
   "source": [
    "gapTimeslotPickupPoint = pd.DataFrame(inp0.groupby(['Request_Time_Slot','Pickup_point','Gap'])['Request_id'].count().unstack(fill_value=0))\n",
    "gapTimeslotPickupPoint"
   ]
  },
  {
   "cell_type": "code",
   "execution_count": 36,
   "id": "4d50360d",
   "metadata": {},
   "outputs": [
    {
     "data": {
      "image/png": "[encoded data removed]",
      "text/plain": [
       "<Figure size 1080x360 with 1 Axes>"
      ]
     },
     "metadata": {
      "needs_background": "light"
     },
     "output_type": "display_data"
    }
   ],
   "source": [
    "gapTimeslotPickupPoint.plot(kind='bar', color=['Blue','Red'])\n",
    "plt.ylabel(\"Trips Count\")\n",
    "plt.title(\"Demand Vs Supply Gap at Different Timeslots & Pickup Point\")\n",
    "plt.xticks(rotation=90, horizontalalignment=\"center\")\n",
    "plt.gcf().set_size_inches(15, 5)\n",
    "plt.show()"
   ]
  },
  {
   "cell_type": "markdown",
   "id": "38f68e17",
   "metadata": {},
   "source": [
    "### 2b. Find the types of requests for which the gap is the most severe in the identified time slots\n",
    "### <span style='background :yellow' > Above Barplot displays types of requests for which the gap is the most severe in the time slots  </span>\n",
    "### <span style='background :yellow' > Answer: Demand-Supply Gap exists highest at the following Time Slots & types of requests (city-airport or airport-city) </span>\n",
    "\n",
    "1. At Early Morning (5 am -8 am) when Pickup_point = 'City' \n",
    "2. At Evening (17 pm - 20 pm) when Pickup_point = 'Airport'"
   ]
  },
  {
   "cell_type": "markdown",
   "id": "64a7afc4",
   "metadata": {},
   "source": [
    "---------------------------------------------------------------------------\n",
    "---------------------------------------------------------------------"
   ]
  },
  {
   "cell_type": "markdown",
   "id": "82d47aad",
   "metadata": {},
   "source": [
    "## Question-3: What do you think is the reason for this issue for the supply-demand gap? Write the answer in less than 100 words. You may accompany the write-up with plot(s)"
   ]
  },
  {
   "cell_type": "code",
   "execution_count": 37,
   "id": "d5a44c55",
   "metadata": {},
   "outputs": [
    {
     "data": {
      "image/png": "[encoded data removed]",
      "text/plain": [
       "<Figure size 1080x576 with 1 Axes>"
      ]
     },
     "metadata": {
      "needs_background": "light"
     },
     "output_type": "display_data"
    },
    {
     "data": {
      "image/png": "[encoded data removed]",
      "text/plain": [
       "<Figure size 1080x576 with 1 Axes>"
      ]
     },
     "metadata": {
      "needs_background": "light"
     },
     "output_type": "display_data"
    }
   ],
   "source": [
    "timeslotresults.plot.bar()\n",
    "plt.legend(bbox_to_anchor=(1.05, 1.0), loc='upper left')\n",
    "plt.ylabel(\"Trips Count\")\n",
    "plt.title(\"Status at Different Timeslots\")\n",
    "plt.xticks(rotation=0, horizontalalignment=\"center\")\n",
    "plt.gcf().set_size_inches(15, 8)\n",
    "plt.show()\n",
    "###############################################\n",
    "gapTimeslotPickupPoint.plot(kind='bar', color=['Blue','Red'])\n",
    "plt.legend(bbox_to_anchor=(1.05, 1.0), loc='upper left')\n",
    "plt.ylabel(\"Trips Count\")\n",
    "plt.title(\"Demand Vs Supply Gap at Different Timeslots & Pickup Point\")\n",
    "plt.xticks(rotation=90, horizontalalignment=\"center\")\n",
    "plt.gcf().set_size_inches(15, 8)\n",
    "plt.show()"
   ]
  },
  {
   "cell_type": "markdown",
   "id": "aa713066",
   "metadata": {},
   "source": [
    "### <span style='background :yellow' > Answer:</span>\n",
    "\n",
    "### From the analysis done till now and looking at the above plots we encounter the following issues:\n",
    "#### <span style='background :yellow' > Issue-1</span> : Demand-Supply Gap exists highest at Early Morning (5 am -8 am) when Pickup_point = 'City' were the requests are being \"Cancelled\" more by drivers.\n",
    "#### <span style='background :yellow' > Reasons</span> : \n",
    "> **1. Airports are situated in the outskirts of the city, during Early Morning (5 am -8 am) drivers tend to have inter city rides rather than travelling longer distance drop points such as Airports which results in longer wait time in getting a ride from Airports,hence cancels rides to \"Airport\" from \"city\".**\n",
    "\n",
    "> **2. Where as during these hours, since most of the offices,schools and universities open, drivers tend to pick such rides which give them shorter wait time in getting next ride, hence cancels rides to \"Airport\" from \"city\".**\n",
    "\n",
    "\n",
    "#### <span style='background :yellow' > Issue-2</span> : Demand-Supply Gap exists highest at At Evening (17 pm - 20 pm) when Pickup_point = 'Airport' were the requests are \"No Cars Available\".\n",
    "#### <span style='background :yellow' > Reason</span> : \n",
    "> **1. This clearly shows that not enough cars are avialble at Airports, one of the reasons might be that, during these hours i.e. Evening (17 pm - 20 pm) a driver would get far more rides in city, since these are again peek hours were people tend to travel back to homes after work.**"
   ]
  },
  {
   "cell_type": "markdown",
   "id": "39fd1d11",
   "metadata": {},
   "source": [
    "-------------------------------------------\n",
    "-----------------------------------------------"
   ]
  },
  {
   "cell_type": "markdown",
   "id": "a74398b5",
   "metadata": {},
   "source": [
    "## Question-4: Recommend some ways to resolve the supply-demand gap."
   ]
  },
  {
   "attachments": {},
   "cell_type": "markdown",
   "id": "e97b5974",
   "metadata": {},
   "source": [
    "### <span style='background :yellow' > Answer:</span>\n",
    "\n",
    "### Recommendations for the following issues:\n",
    "#### <span style='background :yellow' > Issue-1</span> : Demad-Supply Gap exists highest at Early Morning (5 am -8 am) when Pickup_point = 'City' were the requests are being \"Cancelled\" more by drivers.\n",
    "#### <span style='background :yellow' > Recommendation</span> : \n",
    "> **1. Provide extra incentives to drivers during Early Morning (5 am -8 am) hours, if drop point is \"Airport\",this will motivate drivers to accept rides from \"city\" to \"Airport\" without hesitation.**\n",
    "\n",
    "> **2. Provide monthly reward points and recognition for drivers, which will give popularity among other drivers.**\n",
    "\n",
    "#### <span style='background :yellow' > Issue-2</span> : Demad-Supply Gap exists highest at At Evening (17 pm - 20 pm) when Pickup_point = 'Airport' were the requests are \"No Cars Available\".\n",
    "#### <span style='background :yellow' > Recommendation</span> : \n",
    "> **1. Start dedicated \"Airport\" Taxis/Cabs which are available at \"Airport\" stand. Maintain minimum Taxis/cabs at \"Airport\" consistently during Evening (17 pm - 20 pm) hours.**\n",
    "\n",
    "> **2. Make advertisements on how Uber is now having exclusive Taxis/Cabs for people travelling towards city.**\n",
    "\n",
    "> **3. Have some 6 seater big cars also available, because people travelling back tend to have larger lagauge, also families tend to receive them from airport.**"
   ]
  },
  {
   "cell_type": "markdown",
   "id": "97c5a299",
   "metadata": {},
   "source": [
    "--------------------------------------------------End--------------------------------------------------------------------------\n",
    "----------------------------------------------------------------------------------------------------------------------------------"
   ]
  }
 ],
 "metadata": {
  "kernelspec": {
   "display_name": "Python 3",
   "language": "python",
   "name": "python3"
  },
  "language_info": {
   "codemirror_mode": {
    "name": "ipython",
    "version": 3
   },
   "file_extension": ".py",
   "mimetype": "text/x-python",
   "name": "python",
   "nbconvert_exporter": "python",
   "pygments_lexer": "ipython3",
   "version": "3.8.8"
  }
 },
 "nbformat": 4,
 "nbformat_minor": 5
}
